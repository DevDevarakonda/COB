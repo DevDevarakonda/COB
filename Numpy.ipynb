{
  "cells": [
    {
      "cell_type": "markdown",
      "metadata": {
        "id": "view-in-github",
        "colab_type": "text"
      },
      "source": [
        "<a href=\"https://colab.research.google.com/github/DevDevarakonda/COB/blob/main/Numpy.ipynb\" target=\"_parent\"><img src=\"https://colab.research.google.com/assets/colab-badge.svg\" alt=\"Open In Colab\"/></a>"
      ]
    },
    {
      "cell_type": "markdown",
      "id": "df6442ca",
      "metadata": {
        "id": "df6442ca"
      },
      "source": [
        "# <center> NumPy </center>"
      ]
    },
    {
      "cell_type": "markdown",
      "id": "3c7e3dc5",
      "metadata": {
        "id": "3c7e3dc5"
      },
      "source": [
        "## `Table of Contents`\n",
        "\n",
        "<div class='alert alert-success'>\n",
        "\n",
        "\n",
        "**1. Converting a List to an array<br>\n",
        "2. Arange Function<br>\n",
        "3. Multidimensional Array<br>\n",
        "4. Size Function<br>\n",
        "5. Shape Function<br>\n",
        "    6. Dtype Function<br>\n",
        "    7. Ndim Function<br>\n",
        "    8. Zeros and Ones Function<br>\n",
        "    9. Eye Function<br>\n",
        "    10. Empty Function<br>\n",
        "    11. Random Functions:<br>\n",
        "    -----a) np.random.rand<br>\n",
        "    -----b) np.random.randint<br>\n",
        "    -----c) np.random.randn<br>\n",
        "    12. Reshape function<br>\n",
        "    13. Linspace Function<br>\n",
        "    14. Flatten Function<br>\n",
        "    15. Logspace Function<br>\n",
        "    16. Copy Function<br>\n",
        "    17. arr.max() ,  arr.min() ,     arr.sum() functions<br>\n",
        "    18. Seed function<br>\n",
        "    19. Sorting in numpy array<br>\n",
        "    20. Mathematical Operation in Numpy<br>\n",
        "    -----a) Addition<br>\n",
        "    -----b) Substraction<br>\n",
        "    -----c) Multiplication<br>\n",
        "    -----d) Division<br>\n",
        "    -----e) Matrix Multiplication<br>\n",
        "    -----f) Power<br>\n",
        "    21. Percentile Function<br>\n",
        "    22. Mean, Variance and Standard Deviation<br>\n",
        "    23. Filtering an numpy array<br>\n",
        "    24. Transposing an array<br>\n",
        "    25. Where function<br>\n",
        "    26. Merging Arrays<br>\n",
        "    -----a) Using Concatenate<br>\n",
        "    -----b) Using vstack and hstack<br>\n",
        "    27. Splitting Arrays<br>\n",
        "    28. Turning Pictures into Numpy arrays**\n",
        "</div>"
      ]
    },
    {
      "cell_type": "code",
      "execution_count": null,
      "id": "0024a36a",
      "metadata": {
        "id": "0024a36a"
      },
      "outputs": [],
      "source": [
        "import numpy as np"
      ]
    },
    {
      "cell_type": "markdown",
      "id": "5d51f0ab",
      "metadata": {
        "id": "5d51f0ab"
      },
      "source": [
        "## `1. Coverting a List to Array`"
      ]
    },
    {
      "cell_type": "code",
      "execution_count": null,
      "id": "117d6146",
      "metadata": {
        "id": "117d6146",
        "outputId": "cef1ac2d-04bd-4ea0-b6a7-7d47b705607d",
        "colab": {
          "base_uri": "https://localhost:8080/"
        }
      },
      "outputs": [
        {
          "output_type": "stream",
          "name": "stdout",
          "text": [
            "<class 'list'>\n",
            "<class 'numpy.ndarray'>\n",
            "[[1 2 3 4]]\n"
          ]
        }
      ],
      "source": [
        "lst = [1,2,3,4]\n",
        "\n",
        "print(type(lst))\n",
        "\n",
        "arr = np.array(lst)\n",
        "\n",
        "print(type(arr))\n",
        "\n",
        "arr = np.array(lst, ndmin = 2)\n",
        "\n",
        "print(arr)"
      ]
    },
    {
      "cell_type": "markdown",
      "id": "ad6496dc",
      "metadata": {
        "id": "ad6496dc"
      },
      "source": [
        "## `2. Arrange function`"
      ]
    },
    {
      "cell_type": "markdown",
      "id": "3594876d",
      "metadata": {
        "id": "3594876d"
      },
      "source": [
        "`The arange([start,] stop[, step,][, dtype]) : Returns an array with evenly spaced elements as per the interval. The interval mentioned is half-opened i.e. [Start, Stop) `"
      ]
    },
    {
      "cell_type": "code",
      "execution_count": null,
      "id": "dcd25b1e",
      "metadata": {
        "id": "dcd25b1e",
        "outputId": "1974ef50-95d9-4423-84fb-df224eb6d795"
      },
      "outputs": [
        {
          "name": "stdout",
          "output_type": "stream",
          "text": [
            "[1 3 5 7 9]\n"
          ]
        }
      ],
      "source": [
        "arr = np.arange(1,10,2)\n",
        "print(arr)"
      ]
    },
    {
      "cell_type": "markdown",
      "id": "81614dcd",
      "metadata": {
        "id": "81614dcd"
      },
      "source": [
        "## `3. Multidimensional Array`"
      ]
    },
    {
      "cell_type": "code",
      "execution_count": null,
      "id": "8b75b2be",
      "metadata": {
        "id": "8b75b2be",
        "outputId": "bac05d06-2817-492e-9c6c-186afc79e17c"
      },
      "outputs": [
        {
          "data": {
            "text/plain": [
              "array([[1, 2, 3],\n",
              "       [4, 5, 6],\n",
              "       [7, 8, 9]])"
            ]
          },
          "execution_count": 47,
          "metadata": {},
          "output_type": "execute_result"
        }
      ],
      "source": [
        "arr = np.array([[1,2,3],[4,5,6],[7,8,9]])\n",
        "\n",
        "arr"
      ]
    },
    {
      "cell_type": "markdown",
      "id": "370b327d",
      "metadata": {
        "id": "370b327d"
      },
      "source": [
        "## `4. Size Function`"
      ]
    },
    {
      "cell_type": "markdown",
      "id": "b681819e",
      "metadata": {
        "id": "b681819e"
      },
      "source": [
        "`In Python, numpy.size() function count the number of elements along a given axis`\n",
        "`(0 - Rows | 1 - Columns)`"
      ]
    },
    {
      "cell_type": "code",
      "execution_count": null,
      "id": "70cce715",
      "metadata": {
        "id": "70cce715",
        "outputId": "47d83ae2-82ed-4dc1-bc96-93ff5a81bab4"
      },
      "outputs": [
        {
          "name": "stdout",
          "output_type": "stream",
          "text": [
            "Total :  12\n",
            "Rows  :  4\n",
            "Cols  :  3\n"
          ]
        },
        {
          "data": {
            "text/plain": [
              "array([[1, 2, 3],\n",
              "       [4, 5, 6],\n",
              "       [7, 8, 9],\n",
              "       [1, 2, 3]])"
            ]
          },
          "execution_count": 9,
          "metadata": {},
          "output_type": "execute_result"
        }
      ],
      "source": [
        "arr = np.array([[1,2,3],[4,5,6],[7,8,9],[1,2,3]])\n",
        "\n",
        "print('Total : ', arr.size)\n",
        "print('Rows  : ', np.size(arr,0))\n",
        "print('Cols  : ', np.size(arr,1))\n",
        "\n",
        "arr"
      ]
    },
    {
      "cell_type": "markdown",
      "id": "65b131ea",
      "metadata": {
        "id": "65b131ea"
      },
      "source": [
        "## `5. Shape Function`"
      ]
    },
    {
      "cell_type": "markdown",
      "id": "5011bb12",
      "metadata": {
        "id": "5011bb12"
      },
      "source": [
        "`The shape of an array can be defined as the number of elements in each dimension. Dimension is the number of indices or subscripts, that we require in order to specify an individual element of an array`."
      ]
    },
    {
      "cell_type": "code",
      "execution_count": null,
      "id": "9c1435c4",
      "metadata": {
        "id": "9c1435c4",
        "outputId": "2d1d3b78-06a1-45d4-f6e5-5e38cc2fd854"
      },
      "outputs": [
        {
          "name": "stdout",
          "output_type": "stream",
          "text": [
            "[4, 3]\n",
            "(4, 3)\n"
          ]
        }
      ],
      "source": [
        "arr = np.array([[1,2,3],[4,5,6],[7,8,9],[1,2,3]])\n",
        "\n",
        "print([np.size(arr,0),np.size(arr,1)])\n",
        "\n",
        "print(arr.shape)"
      ]
    },
    {
      "cell_type": "markdown",
      "id": "c183ee8b",
      "metadata": {
        "id": "c183ee8b"
      },
      "source": [
        "##  `6. Dtype Function`"
      ]
    },
    {
      "cell_type": "markdown",
      "id": "a1b8e47d",
      "metadata": {
        "id": "a1b8e47d"
      },
      "source": [
        "`Every ndarray has an associated data type (dtype) object. This data type object (dtype) informs us about the layout of the array. This means it gives us information about:`\n",
        "\n",
        "- Type of the data (integer, float, Python object, etc.)\n",
        "- Size of the data (number of bytes)\n",
        "- The byte order of the data (little-endian or big-endian)\n",
        "- If the data type is a sub-array, what is its shape and data type?\n"
      ]
    },
    {
      "cell_type": "code",
      "execution_count": null,
      "id": "1d00f166",
      "metadata": {
        "id": "1d00f166",
        "outputId": "0c421e8e-20b2-454c-822c-6c35cead7a33"
      },
      "outputs": [
        {
          "name": "stdout",
          "output_type": "stream",
          "text": [
            "int64\n",
            "float64\n"
          ]
        }
      ],
      "source": [
        "arr1 = np.array([1,2,3,1,2,3])\n",
        "arr2 = np.array([1.2,3.1,2.3])\n",
        "\n",
        "\n",
        "print(arr1.dtype)\n",
        "print(arr2.dtype)"
      ]
    },
    {
      "cell_type": "markdown",
      "id": "36f7d098",
      "metadata": {
        "id": "36f7d098"
      },
      "source": [
        "##  `7. Ndim Function`"
      ]
    },
    {
      "cell_type": "markdown",
      "id": "78a6c861",
      "metadata": {
        "id": "78a6c861"
      },
      "source": [
        "`numpy.ndarray.ndim() function return the number of dimensions of an array.`\n"
      ]
    },
    {
      "cell_type": "code",
      "execution_count": null,
      "id": "22de74fb",
      "metadata": {
        "id": "22de74fb",
        "outputId": "b2b4ccae-2b76-4f58-c775-52855e73804f"
      },
      "outputs": [
        {
          "name": "stdout",
          "output_type": "stream",
          "text": [
            "1\n",
            "2\n",
            "3\n"
          ]
        }
      ],
      "source": [
        "arr1 = np.array([1,2,3,1,2,3])\n",
        "arr2 = np.array([[1,2,3],[1,2,3]])\n",
        "\n",
        "print(arr1.ndim)\n",
        "print(arr2.ndim)\n",
        "\n",
        "arr3 = np.array(arr1, ndmin = 3)\n",
        "print(arr3.ndim)"
      ]
    },
    {
      "cell_type": "markdown",
      "id": "3d6147c8",
      "metadata": {
        "id": "3d6147c8"
      },
      "source": [
        "##  `8. Zeros  Function`"
      ]
    },
    {
      "cell_type": "markdown",
      "id": "2fcec0c2",
      "metadata": {
        "id": "2fcec0c2"
      },
      "source": [
        "The numpy.zeros() function returns a new array of given shape and type, with zeros. Syntax:<br>\n",
        "\n",
        "numpy.zeros(shape, dtype = None)\n"
      ]
    },
    {
      "cell_type": "code",
      "execution_count": null,
      "id": "26f394f1",
      "metadata": {
        "id": "26f394f1",
        "outputId": "64198337-5cee-489e-d90a-f389ff2e478a"
      },
      "outputs": [
        {
          "name": "stdout",
          "output_type": "stream",
          "text": [
            "[[0 0 0 0 0]\n",
            " [0 0 0 0 0]\n",
            " [0 0 0 0 0]]\n"
          ]
        }
      ],
      "source": [
        "arr = np.zeros(shape = (3,5), dtype = int)\n",
        "\n",
        "print(arr)"
      ]
    },
    {
      "cell_type": "markdown",
      "id": "bb51921e",
      "metadata": {
        "id": "bb51921e"
      },
      "source": [
        "##  `Ones  Function`"
      ]
    },
    {
      "cell_type": "markdown",
      "id": "0b0ae221",
      "metadata": {
        "id": "0b0ae221"
      },
      "source": [
        "`The numpy.ones() function returns a new array of given shape and type, with ones.`\n",
        "\n",
        "\n",
        "`Syntax: numpy.ones(shape, dtype = None)`"
      ]
    },
    {
      "cell_type": "code",
      "execution_count": null,
      "id": "80c49c96",
      "metadata": {
        "id": "80c49c96",
        "outputId": "889fa840-28f9-4d3a-8a00-33da7a613839"
      },
      "outputs": [
        {
          "name": "stdout",
          "output_type": "stream",
          "text": [
            "[[1 1 1 1 1]\n",
            " [1 1 1 1 1]\n",
            " [1 1 1 1 1]]\n"
          ]
        }
      ],
      "source": [
        "arr = np.ones(shape = (3,5), dtype = int)\n",
        "\n",
        "print(arr)"
      ]
    },
    {
      "cell_type": "markdown",
      "id": "b1de9f2c",
      "metadata": {
        "id": "b1de9f2c"
      },
      "source": [
        "##  `9. Eye  Function`"
      ]
    },
    {
      "cell_type": "markdown",
      "id": "bbff4a88",
      "metadata": {
        "id": "bbff4a88"
      },
      "source": [
        "`The eye tool returns a 2-D array with  1’s as the diagonal and  0’s elsewhere. The diagonal can be main, upper, or lower depending on the optional parameter k.`"
      ]
    },
    {
      "cell_type": "code",
      "execution_count": null,
      "id": "7abc9cd7",
      "metadata": {
        "id": "7abc9cd7",
        "outputId": "3a569a5d-2885-4e4f-ae23-966df22432ee",
        "colab": {
          "base_uri": "https://localhost:8080/"
        }
      },
      "outputs": [
        {
          "output_type": "execute_result",
          "data": {
            "text/plain": [
              "array([[1, 0, 0, 0],\n",
              "       [0, 1, 0, 0],\n",
              "       [0, 0, 1, 0],\n",
              "       [0, 0, 0, 1]])"
            ]
          },
          "metadata": {},
          "execution_count": 10
        }
      ],
      "source": [
        "np.eye( 4 , dtype = int)"
      ]
    },
    {
      "cell_type": "markdown",
      "id": "37582292",
      "metadata": {
        "id": "37582292"
      },
      "source": [
        "##  `10. Empty  Function`"
      ]
    },
    {
      "cell_type": "markdown",
      "id": "93bec6fc",
      "metadata": {
        "id": "93bec6fc"
      },
      "source": [
        "`Return am empty array of given shape and type`"
      ]
    },
    {
      "cell_type": "code",
      "execution_count": null,
      "id": "ed56c9d1",
      "metadata": {
        "id": "ed56c9d1",
        "outputId": "39873319-1798-4ac1-a37d-4c31b715a07a"
      },
      "outputs": [
        {
          "data": {
            "text/plain": [
              "array([[9.48172087e-312, 7.21335843e-322, 0.00000000e+000,\n",
              "        0.00000000e+000, 4.89539676e-307],\n",
              "       [1.16095484e-028, 2.17237198e-153, 4.83245960e+276,\n",
              "        3.42703236e-062, 9.65024774e-048],\n",
              "       [2.71743175e-033, 3.42703236e-062, 3.77088747e+233,\n",
              "        3.77026982e+233, 9.15267581e+242],\n",
              "       [5.28601445e-085, 1.96087876e+243, 1.76534625e+137,\n",
              "        1.07441485e+160, 4.24819624e+180],\n",
              "       [6.32672800e+180, 4.74483502e+170, 4.59210323e-072,\n",
              "        3.67145870e+228, 1.22151092e+295]])"
            ]
          },
          "execution_count": 13,
          "metadata": {},
          "output_type": "execute_result"
        }
      ],
      "source": [
        "np.empty(shape = (5,5))"
      ]
    },
    {
      "cell_type": "markdown",
      "id": "05b875bd",
      "metadata": {
        "id": "05b875bd"
      },
      "source": [
        "##  `11. Random  Functions`"
      ]
    },
    {
      "cell_type": "markdown",
      "id": "990383a4",
      "metadata": {
        "id": "990383a4"
      },
      "source": [
        "### **a) np.random.rand**"
      ]
    },
    {
      "cell_type": "markdown",
      "id": "3675a084",
      "metadata": {
        "id": "3675a084"
      },
      "source": [
        "`The numpy.random.rand() function creates an array of specified shape and fills it with random values.`"
      ]
    },
    {
      "cell_type": "code",
      "execution_count": null,
      "id": "3fa14064",
      "metadata": {
        "id": "3fa14064",
        "outputId": "41557f71-a815-4032-d076-41610778eedf",
        "colab": {
          "base_uri": "https://localhost:8080/"
        }
      },
      "outputs": [
        {
          "output_type": "stream",
          "name": "stdout",
          "text": [
            "[[85.78928673 77.02770911 69.42933158 92.25777403]\n",
            " [67.02990074 42.93465264 59.75601158 27.6742519 ]\n",
            " [27.28650668 75.31026615 80.64430331 97.48885273]]\n"
          ]
        }
      ],
      "source": [
        "arr=np.random.rand(3,4)\n",
        "print((arr*90)+10)\n"
      ]
    },
    {
      "cell_type": "markdown",
      "id": "1294e8df",
      "metadata": {
        "id": "1294e8df"
      },
      "source": [
        "### **b) np.random.randint**"
      ]
    },
    {
      "cell_type": "markdown",
      "id": "3927ab7d",
      "metadata": {
        "id": "3927ab7d"
      },
      "source": [
        "`numpy.random.randint() is one of the function for doing random sampling in numpy. It returns an array of specified shape and fills it with random integers from low (inclusive) to high (exclusive), i.e. in the interval [low, high).`"
      ]
    },
    {
      "cell_type": "code",
      "execution_count": null,
      "id": "06e09afe",
      "metadata": {
        "id": "06e09afe",
        "outputId": "b904f649-6e49-4537-e25a-272a9e6fa8ac",
        "colab": {
          "base_uri": "https://localhost:8080/"
        }
      },
      "outputs": [
        {
          "output_type": "execute_result",
          "data": {
            "text/plain": [
              "array([5, 9, 9, 5, 2, 5, 1, 6, 7, 8])"
            ]
          },
          "metadata": {},
          "execution_count": 23
        }
      ],
      "source": [
        "np.random.randint( low = 1, high = 10, size = 10)"
      ]
    },
    {
      "cell_type": "markdown",
      "id": "e3209f18",
      "metadata": {
        "id": "e3209f18"
      },
      "source": [
        "### **c) np.random.randn**"
      ]
    },
    {
      "cell_type": "markdown",
      "id": "a797e41e",
      "metadata": {
        "id": "a797e41e"
      },
      "source": [
        "The numpy.random.randn() function creates an array of specified shape and fills it with random values as per standard normal distribution."
      ]
    },
    {
      "cell_type": "code",
      "execution_count": null,
      "id": "e19ae139",
      "metadata": {
        "id": "e19ae139",
        "outputId": "77b7ee1e-a933-4eba-9fb0-d7a645169c9f",
        "colab": {
          "base_uri": "https://localhost:8080/",
          "height": 430
        }
      },
      "outputs": [
        {
          "output_type": "display_data",
          "data": {
            "text/plain": [
              "<Figure size 640x480 with 1 Axes>"
            ],
            "image/png": "[encoded data removed]"
          },
          "metadata": {}
        }
      ],
      "source": [
        "import matplotlib.pyplot as plt\n",
        "\n",
        "%matplotlib inline\n",
        "\n",
        "plt.hist(np.random.randn(10000000), bins = 1000);"
      ]
    },
    {
      "cell_type": "code",
      "source": [
        "arr = np.random.randn(100)\n",
        "print(arr)"
      ],
      "metadata": {
        "colab": {
          "base_uri": "https://localhost:8080/"
        },
        "id": "jbQh1RME5Ni7",
        "outputId": "8eb72b02-0342-465c-dc77-b787bf6d202b"
      },
      "id": "jbQh1RME5Ni7",
      "execution_count": null,
      "outputs": [
        {
          "output_type": "stream",
          "name": "stdout",
          "text": [
            "[-0.06070587 -0.01527533  0.77070824 -1.08770296  0.92742926  0.56189405\n",
            "  0.29975948 -0.74560564 -0.82353029  1.89927038 -0.88825289  0.43957558\n",
            " -1.2427364   0.15730688 -0.0701536  -0.10316225  0.2666672   0.36134542\n",
            " -0.82287965 -0.82645916 -0.38928381 -1.82340325  0.44690351 -0.69936076\n",
            "  0.28452868 -0.92389822  2.25001231 -0.0954781   2.8664293   0.38526523\n",
            "  1.43662     1.2772643   0.45229288 -0.59798454  0.73210628  0.22033262\n",
            "  2.49077292  0.82425309 -1.49599414 -0.75446429  0.1932025  -0.73334979\n",
            "  0.90083839 -1.98964015  0.88393064  0.856639    1.39704257 -1.16479011\n",
            " -1.18073756  1.47769738  0.04847857 -0.32231806 -1.07802916  0.18178432\n",
            "  1.32724914  0.74232151 -0.54081368  0.73006516  0.01114644 -0.53350005\n",
            "  0.13242253  0.10130612 -0.33977451  1.95247955 -1.62639453  0.28607033\n",
            "  0.98629586  1.27309087 -1.48873962 -2.70982079 -0.81810564 -0.70006025\n",
            " -0.10308423  0.30383269 -0.88806233 -2.20359707  2.04722249 -1.72624971\n",
            " -1.28515342 -0.66651079 -0.49078854 -0.16208935  0.75485294 -0.30156631\n",
            " -0.60358036  1.56691095 -1.26607773 -0.54380209  0.21413933 -1.29654909\n",
            "  0.28211814 -0.90956627 -0.03895663  0.32530623  0.35910562 -0.24012522\n",
            " -0.34485137 -1.25560877 -1.72456681  1.06065916]\n"
          ]
        }
      ]
    },
    {
      "cell_type": "markdown",
      "id": "e4a0b308",
      "metadata": {
        "id": "e4a0b308"
      },
      "source": [
        "##  `12. Reshape function - will not alter the original data`"
      ]
    },
    {
      "cell_type": "markdown",
      "id": "90396b14",
      "metadata": {
        "id": "90396b14"
      },
      "source": [
        "`The numpy.reshape() function shapes an array without changing the data of the array.<br>\n",
        "It should be noted that the product if the rows and columns should be same `"
      ]
    },
    {
      "cell_type": "code",
      "execution_count": null,
      "id": "cdd8ad84",
      "metadata": {
        "id": "cdd8ad84",
        "outputId": "4d702b11-7861-41f8-a648-cee83492ba71",
        "colab": {
          "base_uri": "https://localhost:8080/"
        }
      },
      "outputs": [
        {
          "output_type": "stream",
          "name": "stdout",
          "text": [
            "(3, 4)\n",
            "[[ 2  3  4  2]\n",
            " [ 4 12 14  2]\n",
            " [ 6  2  7 10]]\n",
            "(4, 3)\n",
            "[[ 2  3  4]\n",
            " [ 2  4 12]\n",
            " [14  2  6]\n",
            " [ 2  7 10]]\n",
            "(6, 2)\n",
            "[[ 2  3]\n",
            " [ 4  2]\n",
            " [ 4 12]\n",
            " [14  2]\n",
            " [ 6  2]\n",
            " [ 7 10]]\n"
          ]
        }
      ],
      "source": [
        "arr = np.random.randint(1,15,(3,4))\n",
        "\n",
        "print(arr.shape)\n",
        "print(arr)\n",
        "arr = arr.reshape(4,3)\n",
        "print(arr.shape)\n",
        "print(arr)\n",
        "arr = arr.reshape(6,2)\n",
        "print(arr.shape)\n",
        "print(arr)"
      ]
    },
    {
      "cell_type": "markdown",
      "id": "ebf5f997",
      "metadata": {
        "id": "ebf5f997"
      },
      "source": [
        "##   `13. Linspace  Function`"
      ]
    },
    {
      "cell_type": "markdown",
      "id": "c1258f35",
      "metadata": {
        "id": "c1258f35"
      },
      "source": [
        "`The numpy.linspace() function returns number spaces evenly w.r.t interval. Similar to numpy.arange() function but instead of step it uses sample number.`"
      ]
    },
    {
      "cell_type": "markdown",
      "id": "12c4a402",
      "metadata": {
        "id": "12c4a402"
      },
      "source": [
        "Parameters : <br>\n",
        "\n",
        "- -> start  : [optional] start of interval range. By default start = 0\n",
        "- -> stop   : end of interval range\n",
        "- -> restep : If True, return (samples, step). By default restep = False\n",
        "- -> num    : [int, optional] No. of samples to generate\n",
        "- -> dtype  : type of output array"
      ]
    },
    {
      "cell_type": "code",
      "execution_count": null,
      "id": "f44c9db7",
      "metadata": {
        "id": "f44c9db7",
        "outputId": "b922023f-579a-4e77-98bc-558a514fcbe2"
      },
      "outputs": [
        {
          "data": {
            "text/plain": [
              "array([ 1.  ,  3.25,  5.5 ,  7.75, 10.  ])"
            ]
          },
          "execution_count": 182,
          "metadata": {},
          "output_type": "execute_result"
        }
      ],
      "source": [
        "np.linspace(1,10,5)"
      ]
    },
    {
      "cell_type": "markdown",
      "id": "2cf25475",
      "metadata": {
        "id": "2cf25475"
      },
      "source": [
        "##   `14. Flatten  Function`"
      ]
    },
    {
      "cell_type": "markdown",
      "id": "649009da",
      "metadata": {
        "id": "649009da"
      },
      "source": [
        "`ndarray.flatten() function return a copy of the array collapsed into one dimension`."
      ]
    },
    {
      "cell_type": "code",
      "execution_count": null,
      "id": "12b880a4",
      "metadata": {
        "id": "12b880a4",
        "outputId": "2ca50b10-179b-48c0-b4c0-7e6d4be3c893"
      },
      "outputs": [
        {
          "name": "stdout",
          "output_type": "stream",
          "text": [
            "(3, 4)\n",
            "[[ 6  3  8  3]\n",
            " [ 8  3  1  3]\n",
            " [11  5  9  3]]\n",
            "--------------------\n",
            "(12,)\n",
            "[ 6  3  8  3  8  3  1  3 11  5  9  3]\n"
          ]
        }
      ],
      "source": [
        "arr = np.random.randint(1,15,(3,4))\n",
        "\n",
        "print(arr.shape)\n",
        "print(arr)\n",
        "print('-'*20)\n",
        "arr = arr.flatten()\n",
        "print(arr.shape)\n",
        "print(arr)"
      ]
    },
    {
      "cell_type": "markdown",
      "id": "f686069e",
      "metadata": {
        "id": "f686069e"
      },
      "source": [
        "##   `15. Logspace  Function`"
      ]
    },
    {
      "cell_type": "markdown",
      "id": "b7e7e52b",
      "metadata": {
        "id": "b7e7e52b"
      },
      "source": [
        "`The numpy.logspace() function returns number spaces evenly w.r.t interval on a log scale.`"
      ]
    },
    {
      "cell_type": "markdown",
      "id": "ce955698",
      "metadata": {
        "id": "ce955698"
      },
      "source": [
        "Parameters :\n",
        "\n",
        "- -> start    : [float] start(base ** start) of interval range.\n",
        "- -> stop     : [float] end(base ** stop) of interval range\n",
        "- -> endpoint : [boolean, optional]If True, stop is the last sample. By default, True\n",
        "- -> num      : [int, optional] No. of samples to generate\n",
        "- -> base     : [float, optional] Base of log scale. By default, equals 10.0\n",
        "- -> dtype    : type of output array"
      ]
    },
    {
      "cell_type": "code",
      "execution_count": null,
      "id": "bb5603f5",
      "metadata": {
        "id": "bb5603f5",
        "outputId": "ad504089-3892-4786-8c61-e58e9563e571",
        "colab": {
          "base_uri": "https://localhost:8080/"
        }
      },
      "outputs": [
        {
          "output_type": "stream",
          "name": "stdout",
          "text": [
            "[ 16  21  27  36  48  64  84 111 147 194]\n",
            "--------------------\n",
            "[ 4.          4.66611616  5.44316     6.34960421  7.4069977   8.64047791\n",
            " 10.0793684  11.75787594 13.71590373 16.        ]\n"
          ]
        }
      ],
      "source": [
        "print(np.logspace(2,4,10,endpoint=False,base=4,dtype=int))\n",
        "print('-'*20)\n",
        "print(np.logspace(2,4,10, base = 2))\n",
        "#numpy.logspace(start, stop, num=50, endpoint=True, base=10.0, dtype=None)"
      ]
    },
    {
      "cell_type": "markdown",
      "id": "f029ad6c",
      "metadata": {
        "id": "f029ad6c"
      },
      "source": [
        "## `16. Copy function`"
      ]
    },
    {
      "cell_type": "markdown",
      "id": "317d7048",
      "metadata": {
        "id": "317d7048"
      },
      "source": [
        "`If we normally use the equals sign then the **id** of both the numpy array will be same, so we need to use to` **copy** `function`"
      ]
    },
    {
      "cell_type": "code",
      "execution_count": null,
      "id": "f8e39648",
      "metadata": {
        "id": "f8e39648",
        "outputId": "7d3cd48c-bab8-485f-8013-57973c75e219",
        "colab": {
          "base_uri": "https://localhost:8080/"
        }
      },
      "outputs": [
        {
          "output_type": "stream",
          "name": "stdout",
          "text": [
            "[14  7 14  1 14  3  4  2  3 14] 137405259592880\n",
            "[14  7 14  1 14  3  4  2  3 14] 137405259592880\n",
            "--------------------------------------------------\n",
            "[ 6 11 11 13  2  8  8  7  3  9] 137406137626576\n",
            "[ 6 11 11 13  2  8  8  7  3  9] 137405320788944\n"
          ]
        }
      ],
      "source": [
        "arr1 = np.random.randint(1,15,10)\n",
        "\n",
        "arr2 = arr1\n",
        "\n",
        "arr2\n",
        "\n",
        "print(arr1, id(arr1))\n",
        "print(arr2, id(arr2))\n",
        "\n",
        "print('-'*50)\n",
        "\n",
        "arr1 = np.random.randint(1,15,10)\n",
        "arr2 = np.copy(arr1)\n",
        "\n",
        "print(arr1, id(arr1))\n",
        "print(arr2, id(arr2))"
      ]
    },
    {
      "cell_type": "markdown",
      "id": "62e1d51a",
      "metadata": {
        "id": "62e1d51a"
      },
      "source": [
        "## `17. arr.max() ,  arr.min() ,     arr.sum() functions`"
      ]
    },
    {
      "cell_type": "markdown",
      "id": "a18977e3",
      "metadata": {
        "id": "a18977e3"
      },
      "source": [
        "- arr.max() will give us the maximum element present in the array\n",
        "- arr.min() will give us the minimun element present in the array\n",
        "- arr.sum() will give us the sum of all the elements present in the array"
      ]
    },
    {
      "cell_type": "code",
      "execution_count": null,
      "id": "3d81fea6",
      "metadata": {
        "id": "3d81fea6",
        "outputId": "78be860d-2c29-4a4a-9568-e73cfd0e4f78",
        "colab": {
          "base_uri": "https://localhost:8080/"
        }
      },
      "outputs": [
        {
          "output_type": "stream",
          "name": "stdout",
          "text": [
            "--------------------\n",
            "[28 14 28 20 17  8 22  5 29 23]\n",
            "--------------------\n",
            "MAX :  29\n",
            "MIN :  5\n",
            "SUM :  194\n"
          ]
        }
      ],
      "source": [
        "arr = np.random.randint(1,30,(3,5))\n",
        "\n",
        "print('-'*20)\n",
        "print(arr)\n",
        "print('-'*20)\n",
        "\n",
        "print('MAX : ', arr.max())\n",
        "print('MIN : ', arr.min())\n",
        "print('SUM : ', arr.sum())"
      ]
    },
    {
      "cell_type": "markdown",
      "id": "aea255c0",
      "metadata": {
        "id": "aea255c0"
      },
      "source": [
        "**We can use the axis parameter to get the max, min and sum of a particular column or row**<br>\n",
        "- axis=0 is for the column\n",
        "- axis=1 is for the row"
      ]
    },
    {
      "cell_type": "code",
      "execution_count": null,
      "id": "f584c219",
      "metadata": {
        "id": "f584c219",
        "outputId": "d9794efa-7671-4959-856f-e4755c0e6f08"
      },
      "outputs": [
        {
          "name": "stdout",
          "output_type": "stream",
          "text": [
            "--------------------\n",
            "[[12 21 24  5  9]\n",
            " [16 18 17  7  7]\n",
            " [15  9  8 17 16]]\n",
            "--------------------\n"
          ]
        }
      ],
      "source": [
        "arr = np.random.randint(1,30,(3,5))\n",
        "\n",
        "print('-'*20)\n",
        "print(arr)\n",
        "print('-'*20)"
      ]
    },
    {
      "cell_type": "markdown",
      "id": "bc8d2d3f",
      "metadata": {
        "id": "bc8d2d3f"
      },
      "source": [
        "#### For columns"
      ]
    },
    {
      "cell_type": "code",
      "execution_count": null,
      "id": "a725a4d3",
      "metadata": {
        "id": "a725a4d3",
        "outputId": "f9b31699-f379-4c8c-eae0-91b1b8f1b030"
      },
      "outputs": [
        {
          "name": "stdout",
          "output_type": "stream",
          "text": [
            "MAX :  [16 21 24 17 16]\n",
            "MIN :  [12  9  8  5  7]\n",
            "SUM :  [43 48 49 29 32]\n"
          ]
        }
      ],
      "source": [
        "print('MAX : ', arr.max(axis = 0))\n",
        "print('MIN : ', arr.min(axis = 0))\n",
        "print('SUM : ', arr.sum(axis = 0))"
      ]
    },
    {
      "cell_type": "markdown",
      "id": "40e428ed",
      "metadata": {
        "id": "40e428ed"
      },
      "source": [
        "#### Fow rows"
      ]
    },
    {
      "cell_type": "code",
      "execution_count": null,
      "id": "1b255864",
      "metadata": {
        "id": "1b255864",
        "outputId": "b4fa8b93-293b-4ab8-a12f-28dc16729365"
      },
      "outputs": [
        {
          "name": "stdout",
          "output_type": "stream",
          "text": [
            "MAX :  [24 18 17]\n",
            "MIN :  [5 7 8]\n",
            "SUM :  [71 65 65]\n"
          ]
        }
      ],
      "source": [
        "print('MAX : ', arr.max(axis = 1))\n",
        "print('MIN : ', arr.min(axis = 1))\n",
        "print('SUM : ', arr.sum(axis = 1))"
      ]
    },
    {
      "cell_type": "markdown",
      "id": "44ee6aed",
      "metadata": {
        "id": "44ee6aed"
      },
      "source": [
        "## `18. Seed Function`"
      ]
    },
    {
      "cell_type": "markdown",
      "id": "00bbefac",
      "metadata": {
        "id": "00bbefac"
      },
      "source": [
        "`random() function is used to generate random numbers in Python. Not actually random, rather this is used to generate pseudo-random numbers. That implies that these randomly generated numbers can be determined. random() function generates numbers for some values. This value is also called seed value.`\n"
      ]
    },
    {
      "cell_type": "markdown",
      "id": "75afa372",
      "metadata": {
        "id": "75afa372"
      },
      "source": [
        "`Syntax : random.seed( l, version )<br>`\n",
        "\n",
        "**Parameter :**\n",
        "\n",
        "- l : Any seed value used to produce a random number.\n",
        "- version : A integer used to specify how to convert l in a integer."
      ]
    },
    {
      "cell_type": "code",
      "execution_count": null,
      "id": "25986ae4",
      "metadata": {
        "id": "25986ae4",
        "outputId": "a79360f7-4a0a-4770-dbf0-49e42da879f8"
      },
      "outputs": [
        {
          "data": {
            "text/plain": [
              "array([[9, 4, 9, 9, 1],\n",
              "       [6, 4, 6, 8, 7],\n",
              "       [1, 5, 8, 9, 2]])"
            ]
          },
          "execution_count": 239,
          "metadata": {},
          "output_type": "execute_result"
        }
      ],
      "source": [
        "np.random.seed(3)\n",
        "\n",
        "arr = np.random.randint(1,10,(3,5))\n",
        "\n",
        "arr"
      ]
    },
    {
      "cell_type": "markdown",
      "id": "2b392d53",
      "metadata": {
        "id": "2b392d53"
      },
      "source": [
        "## `19. Sorting Function`"
      ]
    },
    {
      "cell_type": "markdown",
      "id": "3c890f39",
      "metadata": {
        "id": "3c890f39"
      },
      "source": [
        "`numpy.sort() : This function returns a sorted copy of an array.`\n",
        "\n",
        "`Parameters :`\n",
        "\n",
        "- arr : Array to be sorted.\n",
        "- axis : Axis along which we need array to be started.\n",
        "- order : This argument specifies which fields to compare first.\n",
        "- kind : [‘quicksort’{default}, ‘mergesort’, ‘heapsort’]Sorting algorithm.\n",
        "\n"
      ]
    },
    {
      "cell_type": "code",
      "execution_count": null,
      "id": "5deef6f8",
      "metadata": {
        "id": "5deef6f8",
        "outputId": "d485dd72-0012-4015-eb2d-5fe48d73765b"
      },
      "outputs": [
        {
          "name": "stdout",
          "output_type": "stream",
          "text": [
            "---------------\n",
            "[[9 4 9 9 1]\n",
            " [6 4 6 8 7]\n",
            " [1 5 8 9 2]]\n",
            "---------------\n",
            "[[1 4 9 9 9]\n",
            " [4 6 6 7 8]\n",
            " [1 2 5 8 9]]\n",
            "---------------\n",
            "[[1 4 6 8 1]\n",
            " [6 4 8 9 2]\n",
            " [9 5 9 9 7]]\n",
            "---------------\n",
            "[[1 1 2 4 4]\n",
            " [5 6 6 7 8]\n",
            " [8 9 9 9 9]]\n",
            "---------------\n"
          ]
        }
      ],
      "source": [
        "np.random.seed(3)\n",
        "arr = np.random.randint(1,10,(3,5))\n",
        "\n",
        "\n",
        "print('-'*15)\n",
        "print(arr)\n",
        "print('-'*15)\n",
        "print(np.sort(arr, axis = 1))\n",
        "print('-'*15)\n",
        "print(np.sort(arr, axis = 0))\n",
        "print('-'*15)\n",
        "\n",
        "arr = np.reshape(np.sort(arr.flatten()), arr.shape)\n",
        "print(arr)\n",
        "print('-'*15)"
      ]
    },
    {
      "cell_type": "markdown",
      "id": "845bac07",
      "metadata": {
        "id": "845bac07"
      },
      "source": [
        "We can choose which type of sort we want to perform"
      ]
    },
    {
      "cell_type": "code",
      "execution_count": null,
      "id": "76ddc876",
      "metadata": {
        "id": "76ddc876",
        "outputId": "25981de4-186f-4197-d38c-4c6e56bc952f"
      },
      "outputs": [
        {
          "name": "stdout",
          "output_type": "stream",
          "text": [
            "[[1 1 2 4 4]\n",
            " [5 6 6 7 8]\n",
            " [8 9 9 9 9]]\n"
          ]
        }
      ],
      "source": [
        "print(np.sort(arr, axis = 0, kind = 'mergesort'))"
      ]
    },
    {
      "cell_type": "markdown",
      "id": "d7f4f64e",
      "metadata": {
        "id": "d7f4f64e"
      },
      "source": [
        "## `20. Mathematical Operations`"
      ]
    },
    {
      "cell_type": "markdown",
      "id": "c2c3983f",
      "metadata": {
        "id": "c2c3983f"
      },
      "source": [
        "### a) Addition"
      ]
    },
    {
      "cell_type": "code",
      "execution_count": null,
      "id": "ea2e1aa1",
      "metadata": {
        "id": "ea2e1aa1",
        "outputId": "91df2fe7-8de8-401b-8ee9-fe93aea1b50c"
      },
      "outputs": [
        {
          "name": "stdout",
          "output_type": "stream",
          "text": [
            "---------------\n",
            "[[9 4 9 9 1]\n",
            " [6 4 6 8 7]\n",
            " [1 5 8 9 2]]\n",
            "---------------\n",
            "[[10  5 10 10  2]\n",
            " [ 7  5  7  9  8]\n",
            " [ 2  6  9 10  3]]\n",
            "---------------\n"
          ]
        }
      ],
      "source": [
        "np.random.seed(3)\n",
        "\n",
        "arr = np.random.randint(1,10,(3,5))\n",
        "\n",
        "print('-' * 15)\n",
        "print(arr)\n",
        "print('-' * 15)\n",
        "print(arr + 1)\n",
        "print('-' * 15)"
      ]
    },
    {
      "cell_type": "markdown",
      "id": "798221e0",
      "metadata": {
        "id": "798221e0"
      },
      "source": [
        "### b) Substraction"
      ]
    },
    {
      "cell_type": "code",
      "execution_count": null,
      "id": "cc72113f",
      "metadata": {
        "id": "cc72113f",
        "outputId": "4dc19959-e340-42cb-87d1-a707ac90f83a"
      },
      "outputs": [
        {
          "name": "stdout",
          "output_type": "stream",
          "text": [
            "---------------\n",
            "[[9 4 9 9 1]\n",
            " [6 4 6 8 7]\n",
            " [1 5 8 9 2]]\n",
            "---------------\n",
            "[[8 3 8 8 0]\n",
            " [5 3 5 7 6]\n",
            " [0 4 7 8 1]]\n",
            "---------------\n"
          ]
        }
      ],
      "source": [
        "print('-' * 15)\n",
        "print(arr)\n",
        "print('-' * 15)\n",
        "print(arr - 1)\n",
        "print('-' * 15)"
      ]
    },
    {
      "cell_type": "markdown",
      "id": "a29c8c15",
      "metadata": {
        "id": "a29c8c15"
      },
      "source": [
        "### c) Multiplication"
      ]
    },
    {
      "cell_type": "code",
      "execution_count": null,
      "id": "0620e195",
      "metadata": {
        "id": "0620e195",
        "outputId": "a4d093f5-f122-4eb5-b682-2d27834c4b62"
      },
      "outputs": [
        {
          "name": "stdout",
          "output_type": "stream",
          "text": [
            "---------------\n",
            "[[9 4 9 9 1]\n",
            " [6 4 6 8 7]\n",
            " [1 5 8 9 2]]\n",
            "---------------\n",
            "[[18  8 18 18  2]\n",
            " [12  8 12 16 14]\n",
            " [ 2 10 16 18  4]]\n",
            "---------------\n"
          ]
        }
      ],
      "source": [
        "print('-' * 15)\n",
        "print(arr)\n",
        "print('-' * 15)\n",
        "print(arr * 2)\n",
        "print('-' * 15)"
      ]
    },
    {
      "cell_type": "markdown",
      "id": "5d4fb695",
      "metadata": {
        "id": "5d4fb695"
      },
      "source": [
        "### d) Division"
      ]
    },
    {
      "cell_type": "code",
      "execution_count": null,
      "id": "53cb0ff4",
      "metadata": {
        "id": "53cb0ff4",
        "outputId": "c485c7e2-57d2-4696-d11b-077a0ed0aae8"
      },
      "outputs": [
        {
          "name": "stdout",
          "output_type": "stream",
          "text": [
            "---------------\n",
            "[[9 4 9 9 1]\n",
            " [6 4 6 8 7]\n",
            " [1 5 8 9 2]]\n",
            "---------------\n",
            "[[4.5 2.  4.5 4.5 0.5]\n",
            " [3.  2.  3.  4.  3.5]\n",
            " [0.5 2.5 4.  4.5 1. ]]\n",
            "---------------\n"
          ]
        }
      ],
      "source": [
        "print('-' * 15)\n",
        "print(arr)\n",
        "print('-' * 15)\n",
        "print(arr / 2)\n",
        "print('-' * 15)"
      ]
    },
    {
      "cell_type": "markdown",
      "id": "421ec8bf",
      "metadata": {
        "id": "421ec8bf"
      },
      "source": [
        "### e) Matrix Multiplication\n",
        "`For Matrix Multiplication we either use the `\n",
        "- dot function or\n",
        "- the @ symbol"
      ]
    },
    {
      "cell_type": "code",
      "execution_count": null,
      "id": "c727b56b",
      "metadata": {
        "id": "c727b56b",
        "outputId": "507ed57f-eb40-4491-8cc8-7e58850e4f8e",
        "colab": {
          "base_uri": "https://localhost:8080/"
        }
      },
      "outputs": [
        {
          "output_type": "stream",
          "name": "stdout",
          "text": [
            "[[9 4]\n",
            " [9 9]]\n",
            "--------------------\n",
            "[[1 6]\n",
            " [4 6]]\n",
            "--------------------\n",
            "[[ 25  78]\n",
            " [ 45 108]]\n",
            "------------\n",
            "[[ 25  78]\n",
            " [ 45 108]]\n"
          ]
        }
      ],
      "source": [
        "np.random.seed(3)\n",
        "\n",
        "arr1 = np.random.randint(1,10,(2,2))\n",
        "arr2 = np.random.randint(1,10,(2,2))\n",
        "\n",
        "print(arr1)\n",
        "print(\"-\"*20)\n",
        "print(arr2)\n",
        "print(\"-\"*20)\n",
        "\n",
        "print(arr1.dot(arr2))\n",
        "print('-'*12)\n",
        "print(arr1@arr2)"
      ]
    },
    {
      "cell_type": "markdown",
      "id": "2e59454e",
      "metadata": {
        "id": "2e59454e"
      },
      "source": [
        "### f) Power"
      ]
    },
    {
      "cell_type": "code",
      "execution_count": null,
      "id": "dca65273",
      "metadata": {
        "id": "dca65273",
        "outputId": "57ca8578-86da-4dff-edea-247c96b6d274",
        "colab": {
          "base_uri": "https://localhost:8080/"
        }
      },
      "outputs": [
        {
          "output_type": "stream",
          "name": "stdout",
          "text": [
            "[28 14 28 20 17  8 22  5 29 23]\n",
            "---------------\n",
            "[784 196 784 400 289  64 484  25 841 529]\n"
          ]
        }
      ],
      "source": [
        "print(arr)\n",
        "print('-'*15)\n",
        "print(arr ** 2)"
      ]
    },
    {
      "cell_type": "markdown",
      "id": "854a2cec",
      "metadata": {
        "id": "854a2cec"
      },
      "source": [
        "## ` 21. Percentile Function `</font>"
      ]
    },
    {
      "cell_type": "markdown",
      "id": "bfff1d85",
      "metadata": {
        "id": "bfff1d85"
      },
      "source": [
        "`numpy.percentile()function used to compute the nth percentile of the given data (array elements) along the specified axis`."
      ]
    },
    {
      "cell_type": "code",
      "execution_count": null,
      "id": "769b7078",
      "metadata": {
        "id": "769b7078",
        "outputId": "38ffedd0-8ca5-4f0e-9e0a-943d5d649fd7"
      },
      "outputs": [
        {
          "name": "stdout",
          "output_type": "stream",
          "text": [
            "[9 4 9 9 1 6 4 6 8 7]\n",
            "[1 4 4 6 6 7 8 9 9 9]\n",
            "6.5\n"
          ]
        }
      ],
      "source": [
        "np.random.seed(3)\n",
        "\n",
        "arr = np.random.randint(1,10,10)\n",
        "print(arr)\n",
        "\n",
        "arr = np.sort(arr)\n",
        "print(arr)\n",
        "\n",
        "print(np.percentile(arr, 50))"
      ]
    },
    {
      "cell_type": "markdown",
      "id": "788af731",
      "metadata": {
        "id": "788af731"
      },
      "source": [
        "## `22. Mean, Variance and Standard deviation`"
      ]
    },
    {
      "cell_type": "markdown",
      "id": "a4e979ad",
      "metadata": {
        "id": "a4e979ad"
      },
      "source": [
        " `In NumPy, we can compute the mean, standard deviation, and variance of a given array along the second axis by two approaches first is by using inbuilt functions and second is by the formulas of the mean, standard deviation, and variance`.\n",
        "\n",
        " `Using numpy.mean(), numpy.std(), numpy.var()`\n",
        "\n"
      ]
    },
    {
      "cell_type": "code",
      "execution_count": null,
      "id": "257c2768",
      "metadata": {
        "id": "257c2768",
        "outputId": "4f2e15d9-cbbf-4a6f-da4c-2f46a4f37bf9"
      },
      "outputs": [
        {
          "name": "stdout",
          "output_type": "stream",
          "text": [
            "[5 4 1 1 1 1 3 3 8 1]\n",
            "2.8\n",
            "4.96\n",
            "2.227105745132009\n"
          ]
        }
      ],
      "source": [
        "arr = np.random.randint(1,10,10)\n",
        "\n",
        "print(arr)\n",
        "print(arr.mean())\n",
        "print(arr.var())\n",
        "print(arr.std())"
      ]
    },
    {
      "cell_type": "markdown",
      "id": "85f68749",
      "metadata": {
        "id": "85f68749"
      },
      "source": [
        "## `23. Filtering an numpy array`"
      ]
    },
    {
      "cell_type": "code",
      "execution_count": null,
      "id": "56c37bf2",
      "metadata": {
        "id": "56c37bf2",
        "outputId": "774f7ae9-07fd-4934-b35d-19841dc2bee9"
      },
      "outputs": [
        {
          "name": "stdout",
          "output_type": "stream",
          "text": [
            "[1 2 3 4 5 6 7 8 9]\n",
            "[ True  True  True  True False False False False False]\n",
            "[1 2 3 4]\n"
          ]
        }
      ],
      "source": [
        "arr = np.arange(1,10)\n",
        "\n",
        "print(arr)\n",
        "print(arr < 5)\n",
        "print(arr[arr < 5])"
      ]
    },
    {
      "cell_type": "markdown",
      "id": "c62bdf58",
      "metadata": {
        "id": "c62bdf58"
      },
      "source": [
        "- We can store this into a new variable if we need this filtered array"
      ]
    },
    {
      "cell_type": "code",
      "execution_count": null,
      "id": "1a25766f",
      "metadata": {
        "id": "1a25766f",
        "outputId": "0f5edece-4b3a-479a-b517-ac5e5e98e9a0"
      },
      "outputs": [
        {
          "name": "stdout",
          "output_type": "stream",
          "text": [
            "[1 2 3 4]\n"
          ]
        }
      ],
      "source": [
        "arr2 = arr[arr < 5]\n",
        "print(arr2)"
      ]
    },
    {
      "cell_type": "markdown",
      "id": "1b79f1db",
      "metadata": {
        "id": "1b79f1db"
      },
      "source": [
        "- If we want to replace all the values above 5 with 10 we can even do that"
      ]
    },
    {
      "cell_type": "code",
      "execution_count": null,
      "id": "d281966e",
      "metadata": {
        "id": "d281966e",
        "outputId": "1d108cb3-af3a-4f41-d8ef-49b472182f31"
      },
      "outputs": [
        {
          "data": {
            "text/plain": [
              "array([ 1,  2,  3,  4,  5, 10, 10, 10, 10])"
            ]
          },
          "execution_count": 311,
          "metadata": {},
          "output_type": "execute_result"
        }
      ],
      "source": [
        "arr[arr > 5] = 10\n",
        "\n",
        "arr"
      ]
    },
    {
      "cell_type": "markdown",
      "id": "63f9df80",
      "metadata": {
        "id": "63f9df80"
      },
      "source": [
        "## `24 Transposing an array`"
      ]
    },
    {
      "cell_type": "markdown",
      "id": "5b8d46fd",
      "metadata": {
        "id": "5b8d46fd"
      },
      "source": [
        "`With the help of Numpy ndarray.T object, we can make a Transpose of an array having dimension greater than or equal to 2.`"
      ]
    },
    {
      "cell_type": "code",
      "execution_count": null,
      "id": "58697afb",
      "metadata": {
        "id": "58697afb",
        "outputId": "e74ad9eb-f2c6-47d6-c34b-332518cc151b"
      },
      "outputs": [
        {
          "name": "stdout",
          "output_type": "stream",
          "text": [
            "[[11 18 10  1 14]\n",
            " [13  8  5 11  9]\n",
            " [13 18  1  8  1]]\n",
            "--------------------\n",
            "[[11 13 13]\n",
            " [18  8 18]\n",
            " [10  5  1]\n",
            " [ 1 11  8]\n",
            " [14  9  1]]\n"
          ]
        }
      ],
      "source": [
        "arr = np.random.randint(1,20,(3,5))\n",
        "\n",
        "print(arr)\n",
        "print('-'*20)\n",
        "print(arr.T)"
      ]
    },
    {
      "cell_type": "markdown",
      "id": "b066526b",
      "metadata": {
        "id": "b066526b"
      },
      "source": [
        "## `25. Where function `"
      ]
    },
    {
      "cell_type": "markdown",
      "id": "aeb58623",
      "metadata": {
        "id": "aeb58623"
      },
      "source": [
        "`The numpy.where() function returns the indices of elements in an input array where the given condition is satisfied.`\n",
        "\n",
        "`Syntax :numpy.where(condition[, x, y])\n",
        "Parameters:\n",
        "condition : When True, yield x, otherwise yield y.\n",
        "x, y : Values from which to choose. x, y and condition need to be broadcastable to some shape.`\n",
        "\n",
        "`Returns:\n",
        "out : [ndarray or tuple of ndarrays] If both x and y are specified, the output array contains elements of x where condition is True, and elements from y elsewhere.`\n",
        "\n",
        "`If only condition is given, return the tuple condition.nonzero(), the indices where condition is True.`"
      ]
    },
    {
      "cell_type": "code",
      "execution_count": null,
      "id": "60329641",
      "metadata": {
        "id": "60329641",
        "outputId": "33306e35-29d9-4ca7-c2f8-9949ccc978fa",
        "colab": {
          "base_uri": "https://localhost:8080/"
        }
      },
      "outputs": [
        {
          "output_type": "execute_result",
          "data": {
            "text/plain": [
              "array([37, 21, 47,  3, 54, 49, 39, 93, 89, 98])"
            ]
          },
          "metadata": {},
          "execution_count": 3
        }
      ],
      "source": [
        "arr = np.random.randint(1,100,10)\n",
        "arr"
      ]
    },
    {
      "cell_type": "markdown",
      "id": "642f3c92",
      "metadata": {
        "id": "642f3c92"
      },
      "source": [
        "So now if we are having an even number let's convert it into 100 and the ones which are odd we leave it to the way it is"
      ]
    },
    {
      "cell_type": "code",
      "execution_count": null,
      "id": "8cd9f83a",
      "metadata": {
        "id": "8cd9f83a",
        "outputId": "7aa6fbd7-9351-48e2-e9c3-8ea47218b039",
        "colab": {
          "base_uri": "https://localhost:8080/"
        }
      },
      "outputs": [
        {
          "output_type": "stream",
          "name": "stdout",
          "text": [
            "[37 21 47  3 54 49 39 93 89 98]\n",
            "['37' '21' '47' '3' 'even' '49' '39' '93' '89' 'even']\n",
            "['odd' 'odd' 'odd' 'odd' '54' 'odd' 'odd' 'odd' 'odd' '98']\n",
            "['odd' 'odd' 'odd' 'odd' 'even' 'odd' 'odd' 'odd' 'odd' 'even']\n"
          ]
        }
      ],
      "source": [
        "print(arr)\n",
        "\n",
        "print(np.where(arr%2==0 , 'even' , arr))\n",
        "print(np.where(arr%2!=0, 'odd',arr))\n",
        "\n",
        "arr1 = np.where(arr%2==0, 'even',arr)\n",
        "arr1 = np.where(arr%2!=0, 'odd',arr1)\n",
        "\n",
        "print(arr1)"
      ]
    },
    {
      "cell_type": "markdown",
      "id": "947b4622",
      "metadata": {
        "id": "947b4622"
      },
      "source": [
        "## `26. Merging Arrays`"
      ]
    },
    {
      "cell_type": "markdown",
      "id": "5ef43a11",
      "metadata": {
        "id": "5ef43a11"
      },
      "source": [
        "### a) Concatenate"
      ]
    },
    {
      "cell_type": "markdown",
      "id": "268dd193",
      "metadata": {
        "id": "268dd193"
      },
      "source": [
        "`We can perform the concatenation operation using the concatenate() function. With this function, arrays are concatenated either row-wise or column-wise, given that they have equal rows or columns respectively. Column-wise concatenation can be done by equating axis to 1 as an argument in the function.`"
      ]
    },
    {
      "cell_type": "code",
      "execution_count": null,
      "id": "323a742f",
      "metadata": {
        "id": "323a742f",
        "outputId": "08588099-a40c-4b3f-ba02-c00c397df215"
      },
      "outputs": [
        {
          "name": "stdout",
          "output_type": "stream",
          "text": [
            "[[5 9 1 5]\n",
            " [8 6 7 5]]\n",
            "---------------\n",
            "[[7 4 1 7]\n",
            " [4 2 5 2]]\n",
            "------------------------------\n",
            "[[5 9 1 5]\n",
            " [8 6 7 5]\n",
            " [7 4 1 7]\n",
            " [4 2 5 2]]\n",
            "------------------------------\n",
            "[[5 9 1 5 7 4 1 7]\n",
            " [8 6 7 5 4 2 5 2]]\n"
          ]
        }
      ],
      "source": [
        "arr1 = np.random.randint(1,10,(2,4))\n",
        "arr2 = np.random.randint(1,10,(2,4))\n",
        "\n",
        "print(arr1)\n",
        "print('-'*15)\n",
        "print(arr2)\n",
        "\n",
        "print('-'*30)\n",
        "print(np.concatenate((arr1,arr2), axis = 0))\n",
        "print('-'*30)\n",
        "print(np.concatenate((arr1,arr2), axis = 1))"
      ]
    },
    {
      "cell_type": "markdown",
      "id": "7411fb9f",
      "metadata": {
        "id": "7411fb9f"
      },
      "source": [
        "### b) Vstack and Hstack"
      ]
    },
    {
      "cell_type": "markdown",
      "id": "10afd97a",
      "metadata": {
        "id": "10afd97a"
      },
      "source": [
        "`numpy.hstack() function is used to stack the sequence of input arrays horizontally (i.e. column wise) to make a single array.`"
      ]
    },
    {
      "cell_type": "code",
      "execution_count": null,
      "id": "5f3e1144",
      "metadata": {
        "id": "5f3e1144",
        "outputId": "e9513ccb-0d02-4b49-8cd7-e3ab114220e6"
      },
      "outputs": [
        {
          "name": "stdout",
          "output_type": "stream",
          "text": [
            "[[4 4 7 2]\n",
            " [8 2 3 1]]\n",
            "---------------\n",
            "[[8 2 6 3]\n",
            " [3 2 4 5]]\n",
            "---------------\n",
            "[[4 4 7 2 8 2 6 3]\n",
            " [8 2 3 1 3 2 4 5]]\n"
          ]
        }
      ],
      "source": [
        "arr1 = np.random.randint(1,10,(2,4))\n",
        "arr2 = np.random.randint(1,10,(2,4))\n",
        "\n",
        "\n",
        "\n",
        "\n",
        "print(arr1)\n",
        "print('-'*15)\n",
        "print(arr2)\n",
        "print('-'*15)\n",
        "\n",
        "print(np.hstack((arr1,arr2)))"
      ]
    },
    {
      "cell_type": "markdown",
      "id": "74f59d22",
      "metadata": {
        "id": "74f59d22"
      },
      "source": [
        "`numpy.vstack() function is used to stack the sequence of input arrays vertically to make a single array.`"
      ]
    },
    {
      "cell_type": "code",
      "execution_count": null,
      "id": "016530e7",
      "metadata": {
        "id": "016530e7",
        "outputId": "bd286d4a-3618-48cd-a332-dfc8a74c1e1b"
      },
      "outputs": [
        {
          "name": "stdout",
          "output_type": "stream",
          "text": [
            "[[4 4 7 2]\n",
            " [8 2 3 1]]\n",
            "---------------\n",
            "[[8 2 6 3]\n",
            " [3 2 4 5]]\n",
            "---------------\n",
            "[[4 4 7 2]\n",
            " [8 2 3 1]\n",
            " [8 2 6 3]\n",
            " [3 2 4 5]]\n"
          ]
        }
      ],
      "source": [
        "print(arr1)\n",
        "print('-'*15)\n",
        "print(arr2)\n",
        "print('-'*15)\n",
        "\n",
        "print(np.vstack((arr1,arr2)))"
      ]
    },
    {
      "cell_type": "markdown",
      "id": "f519fcc6",
      "metadata": {
        "id": "f519fcc6"
      },
      "source": [
        "## `27. Splitting Arrays`"
      ]
    },
    {
      "cell_type": "code",
      "execution_count": null,
      "id": "20676e42",
      "metadata": {
        "id": "20676e42",
        "outputId": "92b6eec3-df36-471d-a2c6-aa63df09a752"
      },
      "outputs": [
        {
          "name": "stdout",
          "output_type": "stream",
          "text": [
            "[[4 9 1 7]\n",
            " [9 4 8 2]\n",
            " [9 3 9 1]\n",
            " [5 9 9 7]]\n"
          ]
        }
      ],
      "source": [
        "arr = np.random.randint(1,10,(4,4))\n",
        "\n",
        "print(arr)"
      ]
    },
    {
      "cell_type": "markdown",
      "id": "c163cbe3",
      "metadata": {
        "id": "c163cbe3"
      },
      "source": [
        "`numpy.vsplit() function split an array into multiple sub-arrays vertically (row-wise). vsplit is equivalent to split with axis=0 (default), the array is always split along the first axis regardless of the array dimension.`\n",
        "\n"
      ]
    },
    {
      "cell_type": "code",
      "execution_count": null,
      "id": "22f9f669",
      "metadata": {
        "id": "22f9f669",
        "outputId": "0dc1f9fa-4024-46eb-89eb-83525bfeb219"
      },
      "outputs": [
        {
          "data": {
            "text/plain": [
              "[array([[4, 9, 1, 7],\n",
              "        [9, 4, 8, 2]]),\n",
              " array([[9, 3, 9, 1],\n",
              "        [5, 9, 9, 7]])]"
            ]
          },
          "execution_count": 345,
          "metadata": {},
          "output_type": "execute_result"
        }
      ],
      "source": [
        "np.vsplit(arr, 2)"
      ]
    },
    {
      "cell_type": "markdown",
      "id": "fdf6bb30",
      "metadata": {
        "id": "fdf6bb30"
      },
      "source": [
        "`numpy.hsplit() function split an array into multiple sub-arrays horizontally (column-wise). hsplit is equivalent to split with axis=1, the array is always split along the second axis regardless of the array dimension.`"
      ]
    },
    {
      "cell_type": "code",
      "execution_count": null,
      "id": "e4f3ddb1",
      "metadata": {
        "id": "e4f3ddb1",
        "outputId": "9fdfe0d0-1a28-4702-984f-f9e514e43936"
      },
      "outputs": [
        {
          "data": {
            "text/plain": [
              "[array([[4, 9],\n",
              "        [9, 4],\n",
              "        [9, 3],\n",
              "        [5, 9]]),\n",
              " array([[1, 7],\n",
              "        [8, 2],\n",
              "        [9, 1],\n",
              "        [9, 7]])]"
            ]
          },
          "execution_count": 346,
          "metadata": {},
          "output_type": "execute_result"
        }
      ],
      "source": [
        "np.hsplit(arr, 2)"
      ]
    },
    {
      "cell_type": "markdown",
      "id": "00c7aa57",
      "metadata": {
        "id": "00c7aa57"
      },
      "source": [
        "## `28. Turning Pics into Numpy arrays`"
      ]
    },
    {
      "cell_type": "markdown",
      "id": "d29993aa",
      "metadata": {
        "id": "d29993aa"
      },
      "source": [
        "<img src='GFG.png'>"
      ]
    },
    {
      "cell_type": "markdown",
      "id": "17cbc2fc",
      "metadata": {
        "id": "17cbc2fc"
      },
      "source": [
        "This is picture we are having right here"
      ]
    },
    {
      "cell_type": "markdown",
      "id": "02b6bd0d",
      "metadata": {
        "id": "02b6bd0d"
      },
      "source": [
        "`Once we can turn this picture into an numpy array we can perform operations on that and pass the array even for some machine learning algorithms which will be benefitial for us`"
      ]
    },
    {
      "cell_type": "markdown",
      "id": "9913f628",
      "metadata": {
        "id": "9913f628"
      },
      "source": [
        "We will be using **`imread`** function here which belongs from the matplotlib class"
      ]
    },
    {
      "cell_type": "code",
      "execution_count": null,
      "id": "0b1fd3ea",
      "metadata": {
        "id": "0b1fd3ea",
        "outputId": "06293562-ef5b-407a-ac20-554110366670"
      },
      "outputs": [
        {
          "data": {
            "text/plain": [
              "(607, 1000, 3)"
            ]
          },
          "execution_count": 349,
          "metadata": {},
          "output_type": "execute_result"
        }
      ],
      "source": [
        "from matplotlib.image import imread\n",
        "\n",
        "img = imread('GFG.png')\n",
        "\n",
        "img.shape"
      ]
    },
    {
      "cell_type": "code",
      "source": [
        "import pandas as pd\n",
        "import numpy as np\n",
        "\n",
        "data = {\"sree\":[6,9,6,6],\n",
        "        \"raju\":[7,8,5,5],\n",
        "        \"swati\":[5,6,4,3],\n",
        "        \"ravi\":[5,6,4,3]\n",
        "        }\n",
        "\n",
        "x = pd.DataFrame(data)\n",
        "print(x)\n",
        "print(x.corr())\n"
      ],
      "metadata": {
        "id": "jn9MyMOLIZ1k",
        "colab": {
          "base_uri": "https://localhost:8080/"
        },
        "outputId": "96c6e401-1346-4c16-c7c1-cb19e197d54f"
      },
      "id": "jn9MyMOLIZ1k",
      "execution_count": null,
      "outputs": [
        {
          "output_type": "stream",
          "name": "stdout",
          "text": [
            "   sree  raju  swati  ravi\n",
            "0     6     7      5     5\n",
            "1     9     8      6     6\n",
            "2     6     5      4     4\n",
            "3     6     5      3     3\n",
            "           sree      raju     swati      ravi\n",
            "sree   1.000000  0.777778  0.774597  0.774597\n",
            "raju   0.777778  1.000000  0.946729  0.946729\n",
            "swati  0.774597  0.946729  1.000000  1.000000\n",
            "ravi   0.774597  0.946729  1.000000  1.000000\n"
          ]
        }
      ]
    },
    {
      "cell_type": "code",
      "source": [
        "import pandas as pd\n",
        "import numpy as np\n",
        "\n",
        "data = {\"A\": [2,4],\n",
        "        \"B\": [3,1]\n",
        "        }\n",
        "\n",
        "z = pd.DataFrame(data)\n",
        "print(z)\n",
        "\n",
        "print(\"-\"*50)\n",
        "\n",
        "\n",
        "print(z.corr())"
      ],
      "metadata": {
        "colab": {
          "base_uri": "https://localhost:8080/"
        },
        "id": "Usz13PJBKpL1",
        "outputId": "094408ee-7155-4ea5-c560-301aebaf070e"
      },
      "id": "Usz13PJBKpL1",
      "execution_count": null,
      "outputs": [
        {
          "output_type": "stream",
          "name": "stdout",
          "text": [
            "   A  B\n",
            "0  2  0\n",
            "1  4  0\n",
            "--------------------------------------------------\n",
            "     A   B\n",
            "A  1.0 NaN\n",
            "B  NaN NaN\n"
          ]
        }
      ]
    }
  ],
  "metadata": {
    "kernelspec": {
      "display_name": "base",
      "language": "python",
      "name": "python3"
    },
    "language_info": {
      "codemirror_mode": {
        "name": "ipython",
        "version": 3
      },
      "file_extension": ".py",
      "mimetype": "text/x-python",
      "name": "python",
      "nbconvert_exporter": "python",
      "pygments_lexer": "ipython3",
      "version": "3.12.7"
    },
    "colab": {
      "provenance": [],
      "include_colab_link": true
    }
  },
  "nbformat": 4,
  "nbformat_minor": 5
}